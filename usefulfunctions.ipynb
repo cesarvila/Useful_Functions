{
 "cells": [
  {
   "cell_type": "markdown",
   "metadata": {},
   "source": [
    "# Usefull functions\n",
    "\n",
    "I am including usefull functions to use in my projects"
   ]
  },
  {
   "cell_type": "markdown",
   "metadata": {},
   "source": [
    "## Printing first lines of a file"
   ]
  },
  {
   "cell_type": "code",
   "execution_count": 1,
   "metadata": {},
   "outputs": [],
   "source": [
    "def print_first_lines(path_file, number_of_lines):\n",
    "    \"\"\"Input a file and the number of lines to print\n",
    "    OUTPUT No output, it is just to visualize the file to skip some unnecesary rows\"\"\"\n",
    "    k=0\n",
    "    with open(path_file) as file:\n",
    "        for line in file:\n",
    "            k+=1\n",
    "            print(k,line)\n",
    "            if k == number_of_lines:\n",
    "                break\n",
    "        file.close()"
   ]
  },
  {
   "cell_type": "markdown",
   "metadata": {},
   "source": [
    "## API world bank"
   ]
  },
  {
   "cell_type": "code",
   "execution_count": 2,
   "metadata": {},
   "outputs": [],
   "source": [
    "def open_url_wb(indicator,country='all', format_='json', per_page=1000, date=None):\n",
    "    \"\"\"Input, indicator, and the output layouts, output a the api text extracted\"\"\"\n",
    "    import requests\n",
    "    if country != 'all':\n",
    "        country = ';'.join(country)\n",
    "    api_url = 'http://api.worldbank.org/v2/country/' + country + '/indicator/'\n",
    "    if date == None:\n",
    "        payload = {'format': format_, 'per_page': per_page}\n",
    "    else:\n",
    "        payload = {'format': format_, 'per_page': per_page, 'date': date}\n",
    "    r = requests.get(api_url+indicator, params=payload)\n",
    "    return r"
   ]
  },
  {
   "cell_type": "markdown",
   "metadata": {},
   "source": [
    "## Get the encoding of a file"
   ]
  },
  {
   "cell_type": "code",
   "execution_count": 3,
   "metadata": {},
   "outputs": [],
   "source": [
    "def get_code(path_file):\n",
    "    # import the chardet library\n",
    "    import chardet \n",
    "\n",
    "    # use the detect method to find the encoding\n",
    "    # 'rb' means read in the file as binary\n",
    "    with open(\"mystery.csv\", 'rb') as file:\n",
    "        print(chardet.detect(file.read()))\n"
   ]
  },
  {
   "cell_type": "markdown",
   "metadata": {},
   "source": [
    "## Plot line"
   ]
  },
  {
   "cell_type": "code",
   "execution_count": null,
   "metadata": {},
   "outputs": [],
   "source": [
    "def plot_results(df, x_column_name, y_column_name):\n",
    "    import matplotlib.pyplot as plt\n",
    "    %matplotlib inline\n",
    "\n",
    "    fig, ax = plt.subplots(figsize=(8,6))\n",
    "\n",
    "    df.plot(x_column_name, y_column_name, legend=True, ax=ax)\n",
    "    #ax.legend(labels=['Afghanistan', 'Albania', 'Honduras'])\n",
    "    \n"
   ]
  },
  {
   "cell_type": "markdown",
   "metadata": {},
   "source": [
    "## Remove some rows"
   ]
  },
  {
   "cell_type": "code",
   "execution_count": 1,
   "metadata": {},
   "outputs": [],
   "source": [
    "def remove_list_fromdf(df,col,list_remove):\n",
    "    \"\"\"Input: dataframe, column where you have the values to remove and the list of values to remove\n",
    "    Output: df without the rows where the list is\"\"\"\n",
    "    df = df[~df[col].isin(list_remove)]\n",
    "    \"\"\" Another ways to do it:\n",
    "    1. df[-df[col].isin(list_remove)] \n",
    "    2. df[df[col].isin(list_remove) == False]\n",
    "    3. df[np.logical_not(df[col].isin(list_remove))]\n",
    "    4. this way I need to check it again: df.query(\"column not in @values\")\"\"\"\n",
    "    return df"
   ]
  },
  {
   "cell_type": "markdown",
   "metadata": {},
   "source": [
    "## Tukey rule, Useful!"
   ]
  },
  {
   "cell_type": "code",
   "execution_count": null,
   "metadata": {},
   "outputs": [],
   "source": [
    "def tukey_rule(data_frame, column_name):\n",
    "    Q1 = data_frame[column_name].quantile(0.25)\n",
    "    Q3 = data_frame[column_name].quantile(0.75)\n",
    "    IQR = Q3 - Q1 \n",
    "    max_value = (Q3 + 1.5 * IQR)\n",
    "    min_value = (Q1 - 1.5 * IQR)\n",
    "    data_frame = data_frame[(data_frame[column_name] > min_value) & (data_frame[column_name] < max_value)]\n",
    "    return data_frame"
   ]
  },
  {
   "cell_type": "markdown",
   "metadata": {},
   "source": [
    "## JOin df by merging"
   ]
  },
  {
   "cell_type": "code",
   "execution_count": null,
   "metadata": {},
   "outputs": [],
   "source": [
    "def merge_df(df1,df2,union_tipo='left', cols):\n",
    "    df_merged = df1.merge(df2, how=union_tipo, on=cols)\n",
    "    return df_merged"
   ]
  },
  {
   "cell_type": "markdown",
   "metadata": {},
   "source": [
    "## THis is not a function, learn SQL"
   ]
  },
  {
   "cell_type": "code",
   "execution_count": null,
   "metadata": {},
   "outputs": [],
   "source": [
    "#LEARN TO USE SQLITE\n",
    "# connect to the data base\n",
    "conn = sqlite3.connect('worldbank.db')\n",
    "\n",
    "# get a cursor\n",
    "cur = conn.cursor()\n",
    "\n",
    "# drop tables created previously to start fresh\n",
    "cur.execute(\"DROP TABLE IF EXISTS test\")\n",
    "cur.execute(\"DROP TABLE IF EXISTS indicator\")\n",
    "cur.execute(\"DROP TABLE IF EXISTS projects\")\n",
    "cur.execute(\"DROP TABLE IF EXISTS gdp\")\n",
    "cur.execute(\"DROP TABLE IF EXISTS population\")\n",
    "\n",
    "# TODO create the projects table including project_id as a primary key\n",
    "# HINT: Use cur.execute(\"SQL Query\")\n",
    "cur.execute(\"CREATE TABLE projects (project_id TEXT PRIMARY KEY, countryname TEXT, countrycode TEXT, totalamt REAL, year INTEGER);\")\n",
    "\n",
    "# TODO: create the gdp table including (countrycode, year) as primary key\n",
    "# HINT: To create a primary key on multiple columns, you can do this:\n",
    "# CREATE TABLE tablename (columna datatype, columnb datatype, columnc dataype, PRIMARY KEY (columna, columnb));\n",
    "cur.execute(\"CREATE TABLE gdp (countryname TEXT, countrycode TEXT, year INTEGER, gdp REAL, PRIMARY KEY (countrycode, year));\")\n",
    "\n",
    "# TODO: create the gdp table including (countrycode, year) as primary key\n",
    "cur.execute(\"CREATE TABLE population (countryname TEXT, countrycode TEXT, year INTEGER, population REAL, PRIMARY KEY (countrycode, year));\")\n",
    "\n",
    "#'INSERT INTO gdp (countryname, countrycode, year, gdp) VALUES (\"{}\", \"{}\", {}, {});'.format(countryname, countrycode, year, gdp)\n",
    "# commit changes to the database. Do this whenever modifying a database\n",
    "conn.commit()\n",
    "conn.close()"
   ]
  }
 ],
 "metadata": {
  "kernelspec": {
   "display_name": "Python 3",
   "language": "python",
   "name": "python3"
  },
  "language_info": {
   "codemirror_mode": {
    "name": "ipython",
    "version": 3
   },
   "file_extension": ".py",
   "mimetype": "text/x-python",
   "name": "python",
   "nbconvert_exporter": "python",
   "pygments_lexer": "ipython3",
   "version": "3.7.7"
  }
 },
 "nbformat": 4,
 "nbformat_minor": 4
}
