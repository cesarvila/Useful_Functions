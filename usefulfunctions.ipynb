{
 "cells": [
  {
   "cell_type": "markdown",
   "metadata": {},
   "source": [
    "# Usefull functions\n",
    "\n",
    "I am including usefull functions to use in my projects"
   ]
  },
  {
   "cell_type": "markdown",
   "metadata": {},
   "source": [
    "## Printing first lines of a file"
   ]
  },
  {
   "cell_type": "code",
   "execution_count": 1,
   "metadata": {},
   "outputs": [],
   "source": [
    "def print_first_lines(path_file, number_of_lines):\n",
    "    \"\"\"Input a file and the number of lines to print\n",
    "    OUTPUT No output, it is just to visualize the file to skip some unnecesary rows\"\"\"\n",
    "    k=0\n",
    "    with open(path_file) as file:\n",
    "        for line in file:\n",
    "            k+=1\n",
    "            print(k,line)\n",
    "            if k == number_of_lines:\n",
    "                break\n",
    "        file.close()"
   ]
  },
  {
   "cell_type": "markdown",
   "metadata": {},
   "source": [
    "## API world bank"
   ]
  },
  {
   "cell_type": "code",
   "execution_count": 2,
   "metadata": {},
   "outputs": [],
   "source": [
    "def open_url_wb(indicator,country='all', format_='json', per_page=1000, date=None):\n",
    "    \"\"\"Input, indicator, and the output layouts, output a the api text extracted\"\"\"\n",
    "    import requests\n",
    "    if country != 'all':\n",
    "        country = ';'.join(country)\n",
    "    api_url = 'http://api.worldbank.org/v2/country/' + country + '/indicator/'\n",
    "    if date == None:\n",
    "        payload = {'format': format_, 'per_page': per_page}\n",
    "    else:\n",
    "        payload = {'format': format_, 'per_page': per_page, 'date': date}\n",
    "    r = requests.get(api_url+indicator, params=payload)\n",
    "    return r"
   ]
  },
  {
   "cell_type": "markdown",
   "metadata": {},
   "source": [
    "## Get the encoding of a file"
   ]
  },
  {
   "cell_type": "code",
   "execution_count": 3,
   "metadata": {},
   "outputs": [],
   "source": [
    "def get_code(path_file):\n",
    "    # import the chardet library\n",
    "    import chardet \n",
    "\n",
    "    # use the detect method to find the encoding\n",
    "    # 'rb' means read in the file as binary\n",
    "    with open(\"mystery.csv\", 'rb') as file:\n",
    "        print(chardet.detect(file.read()))\n"
   ]
  },
  {
   "cell_type": "code",
   "execution_count": null,
   "metadata": {},
   "outputs": [],
   "source": []
  }
 ],
 "metadata": {
  "kernelspec": {
   "display_name": "Python 3",
   "language": "python",
   "name": "python3"
  },
  "language_info": {
   "codemirror_mode": {
    "name": "ipython",
    "version": 3
   },
   "file_extension": ".py",
   "mimetype": "text/x-python",
   "name": "python",
   "nbconvert_exporter": "python",
   "pygments_lexer": "ipython3",
   "version": "3.7.7"
  }
 },
 "nbformat": 4,
 "nbformat_minor": 4
}
